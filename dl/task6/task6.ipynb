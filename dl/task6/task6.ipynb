{
 "cells": [
  {
   "cell_type": "markdown",
   "id": "de28d09d-1444-4cb4-a7b7-031121aa668e",
   "metadata": {},
   "source": [
    "## Image classification using Food-101 dataset\n",
    "\n",
    "### Task description\n",
    "1. Grab the dataset from https://huggingface.co/datasets/food101\n",
    "2. Implement a convolutional neural network for multiclass image classification.\n",
    "3. Use https://pytorch.org/tutorials/beginner/blitz/cifar10_tutorial.html or `dl_lab5` for inspiration."
   ]
  },
  {
   "cell_type": "code",
   "execution_count": 2,
   "id": "030aa11a-c09f-4187-be13-f8ce0e2cc2d4",
   "metadata": {},
   "outputs": [],
   "source": [
    "import torch\n",
    "import pandas as pd\n",
    "import numpy as np\n",
    "import random \n",
    "import os\n",
    "import matplotlib.pyplot as plt\n",
    "from PIL import Image\n",
    "import io\n",
    "import torchvision.transforms as transforms"
   ]
  },
  {
   "cell_type": "code",
   "execution_count": 3,
   "id": "bab1d84d",
   "metadata": {},
   "outputs": [
    {
     "data": {
      "text/plain": [
       "(9469, 3)"
      ]
     },
     "execution_count": 3,
     "metadata": {},
     "output_type": "execute_result"
    }
   ],
   "source": [
    "train_data = pd.read_parquet(\"train-00000-of-00008.parquet\")\n",
    "train_data.shape"
   ]
  },
  {
   "cell_type": "code",
   "execution_count": 4,
   "id": "b736b7f0",
   "metadata": {},
   "outputs": [
    {
     "data": {
      "text/plain": [
       "(8417, 3)"
      ]
     },
     "execution_count": 4,
     "metadata": {},
     "output_type": "execute_result"
    }
   ],
   "source": [
    "val_data = pd.read_parquet(\"validation-00000-of-00003.parquet\")\n",
    "val_data.shape"
   ]
  },
  {
   "cell_type": "code",
   "execution_count": 5,
   "id": "3dbb618d",
   "metadata": {},
   "outputs": [
    {
     "data": {
      "text/html": [
       "<div>\n",
       "<style scoped>\n",
       "    .dataframe tbody tr th:only-of-type {\n",
       "        vertical-align: middle;\n",
       "    }\n",
       "\n",
       "    .dataframe tbody tr th {\n",
       "        vertical-align: top;\n",
       "    }\n",
       "\n",
       "    .dataframe thead th {\n",
       "        text-align: right;\n",
       "    }\n",
       "</style>\n",
       "<table border=\"1\" class=\"dataframe\">\n",
       "  <thead>\n",
       "    <tr style=\"text-align: right;\">\n",
       "      <th></th>\n",
       "      <th>label</th>\n",
       "      <th>image.bytes</th>\n",
       "      <th>image.path</th>\n",
       "    </tr>\n",
       "  </thead>\n",
       "  <tbody>\n",
       "    <tr>\n",
       "      <th>0</th>\n",
       "      <td>6</td>\n",
       "      <td>b'\\xff\\xd8\\xff\\xe0\\x00\\x10JFIF\\x00\\x01\\x01\\x01...</td>\n",
       "      <td>1827892.jpg</td>\n",
       "    </tr>\n",
       "    <tr>\n",
       "      <th>1</th>\n",
       "      <td>6</td>\n",
       "      <td>b'\\xff\\xd8\\xff\\xe0\\x00\\x10JFIF\\x00\\x01\\x01\\x01...</td>\n",
       "      <td>2802124.jpg</td>\n",
       "    </tr>\n",
       "    <tr>\n",
       "      <th>2</th>\n",
       "      <td>6</td>\n",
       "      <td>b'\\xff\\xd8\\xff\\xe0\\x00\\x10JFIF\\x00\\x01\\x01\\x01...</td>\n",
       "      <td>2192983.jpg</td>\n",
       "    </tr>\n",
       "    <tr>\n",
       "      <th>3</th>\n",
       "      <td>6</td>\n",
       "      <td>b'\\xff\\xd8\\xff\\xe0\\x00\\x10JFIF\\x00\\x01\\x01\\x01...</td>\n",
       "      <td>1062952.jpg</td>\n",
       "    </tr>\n",
       "    <tr>\n",
       "      <th>4</th>\n",
       "      <td>6</td>\n",
       "      <td>b'\\xff\\xd8\\xff\\xe0\\x00\\x10JFIF\\x00\\x01\\x01\\x01...</td>\n",
       "      <td>3157161.jpg</td>\n",
       "    </tr>\n",
       "  </tbody>\n",
       "</table>\n",
       "</div>"
      ],
      "text/plain": [
       "   label                                        image.bytes   image.path\n",
       "0      6  b'\\xff\\xd8\\xff\\xe0\\x00\\x10JFIF\\x00\\x01\\x01\\x01...  1827892.jpg\n",
       "1      6  b'\\xff\\xd8\\xff\\xe0\\x00\\x10JFIF\\x00\\x01\\x01\\x01...  2802124.jpg\n",
       "2      6  b'\\xff\\xd8\\xff\\xe0\\x00\\x10JFIF\\x00\\x01\\x01\\x01...  2192983.jpg\n",
       "3      6  b'\\xff\\xd8\\xff\\xe0\\x00\\x10JFIF\\x00\\x01\\x01\\x01...  1062952.jpg\n",
       "4      6  b'\\xff\\xd8\\xff\\xe0\\x00\\x10JFIF\\x00\\x01\\x01\\x01...  3157161.jpg"
      ]
     },
     "execution_count": 5,
     "metadata": {},
     "output_type": "execute_result"
    }
   ],
   "source": [
    "val_data.head()"
   ]
  },
  {
   "cell_type": "code",
   "execution_count": 6,
   "id": "67c5a1b5",
   "metadata": {},
   "outputs": [
    {
     "data": {
      "text/plain": [
       "Index(['label', 'image.bytes', 'image.path'], dtype='object')"
      ]
     },
     "execution_count": 6,
     "metadata": {},
     "output_type": "execute_result"
    }
   ],
   "source": [
    "val_data.columns"
   ]
  },
  {
   "cell_type": "code",
   "execution_count": 7,
   "id": "97f3bd44",
   "metadata": {},
   "outputs": [
    {
     "data": {
      "text/plain": [
       "array([ 6, 79, 81, 53, 10, 20, 77, 48, 86, 84, 76, 34, 51, 21, 64,  0, 43,\n",
       "       44, 73, 57, 14,  5, 46, 55, 93, 98, 38, 11, 99, 72, 22, 59, 70, 16])"
      ]
     },
     "execution_count": 7,
     "metadata": {},
     "output_type": "execute_result"
    }
   ],
   "source": [
    "val_data.label.unique()"
   ]
  },
  {
   "cell_type": "code",
   "execution_count": 8,
   "id": "45cb459f",
   "metadata": {},
   "outputs": [
    {
     "data": {
      "text/plain": [
       "array([ 6, 79, 81, 53, 10, 20, 77, 48, 86, 84, 76, 34, 51])"
      ]
     },
     "execution_count": 8,
     "metadata": {},
     "output_type": "execute_result"
    }
   ],
   "source": [
    "train_data.label.unique()"
   ]
  },
  {
   "cell_type": "code",
   "execution_count": 9,
   "id": "ebf977a4",
   "metadata": {},
   "outputs": [
    {
     "data": {
      "text/plain": [
       "13"
      ]
     },
     "execution_count": 9,
     "metadata": {},
     "output_type": "execute_result"
    }
   ],
   "source": [
    "len(train_data.label.unique())"
   ]
  },
  {
   "cell_type": "code",
   "execution_count": 10,
   "id": "4541a0e5",
   "metadata": {},
   "outputs": [],
   "source": [
    "val_data = val_data[val_data.label.isin(train_data.label.unique())]"
   ]
  },
  {
   "cell_type": "code",
   "execution_count": 11,
   "id": "dab542d7",
   "metadata": {},
   "outputs": [
    {
     "data": {
      "text/plain": [
       "(3250, 3)"
      ]
     },
     "execution_count": 11,
     "metadata": {},
     "output_type": "execute_result"
    }
   ],
   "source": [
    "val_data.shape"
   ]
  },
  {
   "cell_type": "code",
   "execution_count": 12,
   "id": "d92517cc",
   "metadata": {},
   "outputs": [],
   "source": [
    "classes = dict(enumerate([ 6, 79, 81, 53, 10, 20, 77, 48, 86, 84, 76, 34, 51]))"
   ]
  },
  {
   "cell_type": "code",
   "execution_count": 13,
   "id": "8e2433bb",
   "metadata": {},
   "outputs": [],
   "source": [
    "classes_rev = {i: ii for ii, i in classes.items()}"
   ]
  },
  {
   "cell_type": "code",
   "execution_count": 14,
   "id": "2357e376",
   "metadata": {},
   "outputs": [
    {
     "data": {
      "text/plain": [
       "{6: 0,\n",
       " 79: 1,\n",
       " 81: 2,\n",
       " 53: 3,\n",
       " 10: 4,\n",
       " 20: 5,\n",
       " 77: 6,\n",
       " 48: 7,\n",
       " 86: 8,\n",
       " 84: 9,\n",
       " 76: 10,\n",
       " 34: 11,\n",
       " 51: 12}"
      ]
     },
     "execution_count": 14,
     "metadata": {},
     "output_type": "execute_result"
    }
   ],
   "source": [
    "classes_rev"
   ]
  },
  {
   "cell_type": "code",
   "execution_count": 15,
   "id": "207e2f4a",
   "metadata": {},
   "outputs": [],
   "source": [
    "train_data.label = train_data.label.map(classes_rev)\n",
    "val_data.label = val_data.label.map(classes_rev)"
   ]
  },
  {
   "cell_type": "code",
   "execution_count": 16,
   "id": "08dfe085",
   "metadata": {},
   "outputs": [
    {
     "data": {
      "text/plain": [
       "0"
      ]
     },
     "execution_count": 16,
     "metadata": {},
     "output_type": "execute_result"
    }
   ],
   "source": [
    "train_data.label[1]"
   ]
  },
  {
   "cell_type": "code",
   "execution_count": 23,
   "id": "44060e24",
   "metadata": {},
   "outputs": [],
   "source": [
    "transform = transforms.Compose([\n",
    "    transforms.Resize((64, 64)),\n",
    "    transforms.ToTensor()])"
   ]
  },
  {
   "cell_type": "code",
   "execution_count": 24,
   "id": "e4bf6d10",
   "metadata": {},
   "outputs": [],
   "source": [
    "class Custom_Dataset(torch.utils.data.Dataset):\n",
    "    def __init__(self, x, y, trans):\n",
    "        self.x = x\n",
    "        self.y = y\n",
    "        self.trans = trans\n",
    "    \n",
    "    \n",
    "    def __len__(self):\n",
    "        return self.y.shape[0]\n",
    "    \n",
    "    \n",
    "    def __getitem__(self, index):\n",
    "        image = Image.open(io.BytesIO(self.x[index]))\n",
    "        \n",
    "        return self.trans(image), self.y[index]"
   ]
  },
  {
   "cell_type": "code",
   "execution_count": 25,
   "id": "2490c2f0",
   "metadata": {},
   "outputs": [],
   "source": [
    "val_dataset = Custom_Dataset(val_data[\"image.bytes\"], val_data.label, transform)\n",
    "train_dataset = Custom_Dataset(train_data[\"image.bytes\"], train_data.label, transform)"
   ]
  },
  {
   "cell_type": "code",
   "execution_count": 26,
   "id": "1ffed91c",
   "metadata": {},
   "outputs": [],
   "source": [
    "val_data_load = torch.utils.data.DataLoader(val_dataset, batch_size=32)\n",
    "train_data_load = torch.utils.data.DataLoader(train_dataset, batch_size=32, shuffle=True)"
   ]
  },
  {
   "cell_type": "code",
   "execution_count": 27,
   "id": "087625b4",
   "metadata": {},
   "outputs": [
    {
     "data": {
      "text/plain": [
       "torch.Size([32, 3, 64, 64])"
      ]
     },
     "execution_count": 27,
     "metadata": {},
     "output_type": "execute_result"
    }
   ],
   "source": [
    "next(iter(train_data_load))[0].shape"
   ]
  },
  {
   "cell_type": "code",
   "execution_count": 28,
   "id": "271a6bf7",
   "metadata": {},
   "outputs": [
    {
     "data": {
      "text/plain": [
       "296"
      ]
     },
     "execution_count": 28,
     "metadata": {},
     "output_type": "execute_result"
    }
   ],
   "source": [
    "len(train_data_load)"
   ]
  },
  {
   "cell_type": "code",
   "execution_count": 29,
   "id": "4adaca72",
   "metadata": {
    "scrolled": false
   },
   "outputs": [
    {
     "data": {
      "image/png": "[encoded data removed]",
      "text/plain": [
       "<Figure size 1000x1000 with 1 Axes>"
      ]
     },
     "metadata": {},
     "output_type": "display_data"
    }
   ],
   "source": [
    "index = random.randint(0, len(train_dataset) - 1)\n",
    "\n",
    "image = train_dataset[index][0].permute(1, 2, 0).detach().cpu().numpy()\n",
    "\n",
    "plt.figure(figsize=(10, 10))\n",
    "\n",
    "plt.imshow(image)\n",
    "plt.axis(False)\n",
    "plt.show()"
   ]
  },
  {
   "cell_type": "code",
   "execution_count": 43,
   "id": "13f5f0a9",
   "metadata": {},
   "outputs": [
    {
     "name": "stderr",
     "output_type": "stream",
     "text": [
      "/home/user/anaconda3/lib/python3.9/site-packages/torch/nn/modules/lazy.py:180: UserWarning: Lazy modules are a new feature under heavy development so changes to the API or functionality can happen at any moment.\n",
      "  warnings.warn('Lazy modules are a new feature under heavy development '\n"
     ]
    }
   ],
   "source": [
    "model = torch.nn.Sequential(\n",
    "    torch.nn.Conv2d(3, 64, 3, 1),\n",
    "    torch.nn.LazyBatchNorm2d(),\n",
    "    torch.nn.ReLU(),\n",
    "    torch.nn.Conv2d(64, 32, 3, 1),\n",
    "    torch.nn.LazyBatchNorm2d(),\n",
    "    torch.nn.ReLU(),\n",
    "    torch.nn.Conv2d(32, 16, 3, 1),\n",
    "    torch.nn.LazyBatchNorm2d(),\n",
    "    torch.nn.ReLU(),\n",
    "    torch.nn.Conv2d(16, 8, 3, 1),\n",
    "    torch.nn.LazyBatchNorm2d(),\n",
    "    torch.nn.ReLU(),\n",
    "    torch.nn.Flatten(),\n",
    "    torch.nn.LazyLinear(13),\n",
    "    torch.nn.Softmax(dim=-1)\n",
    ")"
   ]
  },
  {
   "cell_type": "code",
   "execution_count": 44,
   "id": "429caefe",
   "metadata": {},
   "outputs": [
    {
     "data": {
      "text/plain": [
       "Sequential(\n",
       "  (0): Conv2d(3, 64, kernel_size=(3, 3), stride=(1, 1))\n",
       "  (1): LazyBatchNorm2d(0, eps=1e-05, momentum=0.1, affine=True, track_running_stats=True)\n",
       "  (2): ReLU()\n",
       "  (3): Conv2d(64, 32, kernel_size=(3, 3), stride=(1, 1))\n",
       "  (4): LazyBatchNorm2d(0, eps=1e-05, momentum=0.1, affine=True, track_running_stats=True)\n",
       "  (5): ReLU()\n",
       "  (6): Conv2d(32, 16, kernel_size=(3, 3), stride=(1, 1))\n",
       "  (7): LazyBatchNorm2d(0, eps=1e-05, momentum=0.1, affine=True, track_running_stats=True)\n",
       "  (8): ReLU()\n",
       "  (9): Conv2d(16, 8, kernel_size=(3, 3), stride=(1, 1))\n",
       "  (10): LazyBatchNorm2d(0, eps=1e-05, momentum=0.1, affine=True, track_running_stats=True)\n",
       "  (11): ReLU()\n",
       "  (12): Flatten(start_dim=1, end_dim=-1)\n",
       "  (13): LazyLinear(in_features=0, out_features=13, bias=True)\n",
       "  (14): Softmax(dim=-1)\n",
       ")"
      ]
     },
     "execution_count": 44,
     "metadata": {},
     "output_type": "execute_result"
    }
   ],
   "source": [
    "model"
   ]
  },
  {
   "cell_type": "code",
   "execution_count": 45,
   "id": "8c2c2ede",
   "metadata": {},
   "outputs": [],
   "source": [
    "noice = torch.randn(32, 3, 64, 64)"
   ]
  },
  {
   "cell_type": "code",
   "execution_count": 46,
   "id": "b9ab9951",
   "metadata": {},
   "outputs": [
    {
     "data": {
      "text/plain": [
       "torch.Size([32, 13])"
      ]
     },
     "execution_count": 46,
     "metadata": {},
     "output_type": "execute_result"
    }
   ],
   "source": [
    "model(noice).shape"
   ]
  },
  {
   "cell_type": "code",
   "execution_count": 47,
   "id": "652edae8",
   "metadata": {},
   "outputs": [],
   "source": [
    "loss_f = torch.nn.CrossEntropyLoss()\n",
    "opti = torch.optim.Adam(model.parameters())"
   ]
  },
  {
   "cell_type": "code",
   "execution_count": 48,
   "id": "7e83972d",
   "metadata": {},
   "outputs": [
    {
     "name": "stdout",
     "output_type": "stream",
     "text": [
      "[Epoch: 1/10; train_loss: 2.576460195554269; val_loss: 2.6024367493741654]\n",
      "[Epoch: 2/10; train_loss: 2.563145954061199; val_loss: 2.5762458677385367]\n",
      "[Epoch: 3/10; train_loss: 2.5794353920060233; val_loss: 2.5787284701478246]\n",
      "[Epoch: 4/10; train_loss: 2.573542076188165; val_loss: 2.567960931974299]\n",
      "[Epoch: 5/10; train_loss: 2.5702669974919914; val_loss: 2.5741815239775416]\n",
      "[Epoch: 6/10; train_loss: 2.570085028538833; val_loss: 2.563296508555319]\n",
      "[Epoch: 7/10; train_loss: 2.5699123538829185; val_loss: 2.5674626324691023]\n",
      "[Epoch: 8/10; train_loss: 2.567897742664492; val_loss: 2.567424810400196]\n",
      "[Epoch: 9/10; train_loss: 2.566127872950322; val_loss: 2.565334642634672]\n",
      "[Epoch: 10/10; train_loss: 2.5681263554740594; val_loss: 2.5613811156328987]\n"
     ]
    }
   ],
   "source": [
    "epochs = 10\n",
    "\n",
    "history_train = []\n",
    "history_val = []\n",
    "\n",
    "for epoch in range(1, epochs + 1):\n",
    "    total_train_loss = 0\n",
    "\n",
    "    model.train()\n",
    "\n",
    "    for batch_i, (x, y) in enumerate(iter(train_data_load)):\n",
    "        x, y = x.to(torch.float32), y.to(torch.int64)\n",
    "\n",
    "        pred = model(x)\n",
    "\n",
    "        loss = loss_f(pred, y)\n",
    "\n",
    "        opti.zero_grad()\n",
    "        loss.backward()\n",
    "        opti.step()\n",
    "\n",
    "        total_train_loss += loss.item()\n",
    "\n",
    "    total_train_loss /= len(train_data_load)\n",
    "\n",
    "    total_val_loss = 0\n",
    "\n",
    "    model.eval()\n",
    "\n",
    "    for x, y in iter(val_data_load):\n",
    "        with torch.inference_mode():\n",
    "            pred = model(x)\n",
    "            loss = loss_f(pred, y)\n",
    "\n",
    "        total_val_loss += loss.item()\n",
    "\n",
    "    total_val_loss /= len(val_data_load)\n",
    "\n",
    "    history_train.append(total_train_loss)\n",
    "    history_val.append(total_val_loss)\n",
    "\n",
    "    print(f\"[Epoch: {epoch}/{epochs}; train_loss: {total_train_loss}; val_loss: {total_val_loss}]\")"
   ]
  },
  {
   "cell_type": "code",
   "execution_count": 49,
   "id": "e03975fb",
   "metadata": {},
   "outputs": [
    {
     "data": {
      "image/png": "[encoded data removed]",
      "text/plain": [
       "<Figure size 1000x500 with 1 Axes>"
      ]
     },
     "metadata": {},
     "output_type": "display_data"
    }
   ],
   "source": [
    "plt.figure(figsize=(10, 5))\n",
    "\n",
    "plt.plot(history_train)\n",
    "plt.plot(history_val)\n",
    "\n",
    "plt.show()"
   ]
  },
  {
   "cell_type": "code",
   "execution_count": null,
   "id": "7e9cfe9c",
   "metadata": {},
   "outputs": [],
   "source": []
  }
 ],
 "metadata": {
  "kernelspec": {
   "display_name": "Python 3 (ipykernel)",
   "language": "python",
   "name": "python3"
  },
  "language_info": {
   "codemirror_mode": {
    "name": "ipython",
    "version": 3
   },
   "file_extension": ".py",
   "mimetype": "text/x-python",
   "name": "python",
   "nbconvert_exporter": "python",
   "pygments_lexer": "ipython3",
   "version": "3.9.16"
  }
 },
 "nbformat": 4,
 "nbformat_minor": 5
}
