{
 "cells": [
  {
   "cell_type": "code",
   "execution_count": 1,
   "id": "e8d33a4e",
   "metadata": {},
   "outputs": [
    {
     "name": "stdout",
     "output_type": "stream",
     "text": [
      "*** Introductory Examples for the NLTK Book ***\n",
      "Loading text1, ..., text9 and sent1, ..., sent9\n",
      "Type the name of the text or sentence to view it.\n",
      "Type: 'texts()' or 'sents()' to list the materials.\n",
      "text1: Moby Dick by Herman Melville 1851\n",
      "text2: Sense and Sensibility by Jane Austen 1811\n",
      "text3: The Book of Genesis\n",
      "text4: Inaugural Address Corpus\n",
      "text5: Chat Corpus\n",
      "text6: Monty Python and the Holy Grail\n",
      "text7: Wall Street Journal\n",
      "text8: Personals Corpus\n",
      "text9: The Man Who Was Thursday by G . K . Chesterton 1908\n"
     ]
    }
   ],
   "source": [
    "import nltk\n",
    "from nltk.book import *\n",
    "import matplotlib.pyplot as plt\n",
    "import tkinter\n",
    "import re"
   ]
  },
  {
   "cell_type": "code",
   "execution_count": 12,
   "id": "ce7660f2",
   "metadata": {
    "collapsed": true
   },
   "outputs": [
    {
     "name": "stderr",
     "output_type": "stream",
     "text": [
      "[nltk_data] Downloading collection 'popular'\n",
      "[nltk_data]    | \n",
      "[nltk_data]    | Downloading package cmudict to data/nlp_uni/...\n",
      "[nltk_data]    |   Unzipping corpora/cmudict.zip.\n",
      "[nltk_data]    | Downloading package gazetteers to data/nlp_uni/...\n",
      "[nltk_data]    |   Unzipping corpora/gazetteers.zip.\n",
      "[nltk_data]    | Downloading package genesis to data/nlp_uni/...\n",
      "[nltk_data]    |   Unzipping corpora/genesis.zip.\n",
      "[nltk_data]    | Downloading package gutenberg to data/nlp_uni/...\n",
      "[nltk_data]    |   Unzipping corpora/gutenberg.zip.\n",
      "[nltk_data]    | Downloading package inaugural to data/nlp_uni/...\n",
      "[nltk_data]    |   Unzipping corpora/inaugural.zip.\n",
      "[nltk_data]    | Downloading package movie_reviews to data/nlp_uni/...\n",
      "[nltk_data]    |   Unzipping corpora/movie_reviews.zip.\n",
      "[nltk_data]    | Downloading package names to data/nlp_uni/...\n",
      "[nltk_data]    |   Unzipping corpora/names.zip.\n",
      "[nltk_data]    | Downloading package shakespeare to data/nlp_uni/...\n",
      "[nltk_data]    |   Unzipping corpora/shakespeare.zip.\n",
      "[nltk_data]    | Downloading package stopwords to data/nlp_uni/...\n",
      "[nltk_data]    |   Unzipping corpora/stopwords.zip.\n",
      "[nltk_data]    | Downloading package treebank to data/nlp_uni/...\n",
      "[nltk_data]    |   Unzipping corpora/treebank.zip.\n",
      "[nltk_data]    | Downloading package twitter_samples to\n",
      "[nltk_data]    |     data/nlp_uni/...\n",
      "[nltk_data]    |   Unzipping corpora/twitter_samples.zip.\n",
      "[nltk_data]    | Downloading package omw to data/nlp_uni/...\n",
      "[nltk_data]    | Downloading package omw-1.4 to data/nlp_uni/...\n",
      "[nltk_data]    | Downloading package wordnet to data/nlp_uni/...\n",
      "[nltk_data]    | Downloading package wordnet2021 to data/nlp_uni/...\n",
      "[nltk_data]    | Downloading package wordnet31 to data/nlp_uni/...\n",
      "[nltk_data]    | Downloading package wordnet_ic to data/nlp_uni/...\n",
      "[nltk_data]    |   Unzipping corpora/wordnet_ic.zip.\n",
      "[nltk_data]    | Downloading package words to data/nlp_uni/...\n",
      "[nltk_data]    |   Unzipping corpora/words.zip.\n",
      "[nltk_data]    | Downloading package maxent_ne_chunker to\n",
      "[nltk_data]    |     data/nlp_uni/...\n",
      "[nltk_data]    |   Unzipping chunkers/maxent_ne_chunker.zip.\n",
      "[nltk_data]    | Downloading package punkt to data/nlp_uni/...\n",
      "[nltk_data]    |   Unzipping tokenizers/punkt.zip.\n",
      "[nltk_data]    | Downloading package snowball_data to data/nlp_uni/...\n",
      "[nltk_data]    | Downloading package averaged_perceptron_tagger to\n",
      "[nltk_data]    |     data/nlp_uni/...\n",
      "[nltk_data]    |   Unzipping taggers/averaged_perceptron_tagger.zip.\n",
      "[nltk_data]    | \n",
      "[nltk_data]  Done downloading collection popular\n",
      "[nltk_data] Downloading package nps_chat to data/nlp_uni/...\n",
      "[nltk_data]   Unzipping corpora/nps_chat.zip.\n",
      "[nltk_data] Downloading package webtext to data/nlp_uni/...\n",
      "[nltk_data]   Unzipping corpora/webtext.zip.\n"
     ]
    },
    {
     "data": {
      "text/plain": [
       "True"
      ]
     },
     "execution_count": 12,
     "metadata": {},
     "output_type": "execute_result"
    }
   ],
   "source": [
    "nltk.download(\"popular\")\n",
    "nltk.download(\"nps_chat\")\n",
    "nltk.download(\"webtext\")\n",
    "nltk.download('gutenberg')"
   ]
  },
  {
   "cell_type": "markdown",
   "id": "34ed6d17",
   "metadata": {},
   "source": [
    "# Task - 1"
   ]
  },
  {
   "cell_type": "code",
   "execution_count": 3,
   "id": "167a27bc",
   "metadata": {},
   "outputs": [
    {
     "data": {
      "text/plain": [
       "6"
      ]
     },
     "execution_count": 3,
     "metadata": {},
     "output_type": "execute_result"
    }
   ],
   "source": [
    "p = 22 % 8\n",
    "p"
   ]
  },
  {
   "cell_type": "code",
   "execution_count": 7,
   "id": "7dd2cbc1",
   "metadata": {},
   "outputs": [],
   "source": [
    "freq_dist = nltk.FreqDist(text6)"
   ]
  },
  {
   "cell_type": "code",
   "execution_count": 8,
   "id": "887ce149",
   "metadata": {},
   "outputs": [],
   "source": [
    "rare_words = []\n",
    "\n",
    "for key, value in freq_dist.items():\n",
    "    if value < 5:\n",
    "        rare_words.append(key)"
   ]
  },
  {
   "cell_type": "code",
   "execution_count": 9,
   "id": "cf0850e0",
   "metadata": {},
   "outputs": [
    {
     "data": {
      "text/plain": [
       "(1733, 3, ['wind', 'KING', 'Whoa', 'Halt', 'goes'])"
      ]
     },
     "execution_count": 9,
     "metadata": {},
     "output_type": "execute_result"
    }
   ],
   "source": [
    "len(rare_words), freq_dist[rare_words[0]], rare_words[:5]"
   ]
  },
  {
   "cell_type": "code",
   "execution_count": 14,
   "id": "68560bc2",
   "metadata": {},
   "outputs": [
    {
     "data": {
      "image/png": "[encoded data removed]",
      "text/plain": [
       "<Figure size 2000x1000 with 1 Axes>"
      ]
     },
     "metadata": {},
     "output_type": "display_data"
    }
   ],
   "source": [
    "len_freq_dist = {}\n",
    "\n",
    "for key, value in freq_dist.items():\n",
    "    if len(key) in len_freq_dist:\n",
    "        len_freq_dist[len(key)] += value\n",
    "    else:\n",
    "        len_freq_dist[len(key)] = value\n",
    "    \n",
    "plt.figure(figsize=(20, 10))\n",
    "\n",
    "plt.scatter(len_freq_dist.keys(), len_freq_dist.values())\n",
    "plt.show()"
   ]
  },
  {
   "cell_type": "code",
   "execution_count": 21,
   "id": "7b30ddbf",
   "metadata": {},
   "outputs": [],
   "source": [
    "freq_dist_eos = nltk.FreqDist(re.findall(\"(\\w+)\\s*[.!?]\", \" \".join(text6.tokens)))"
   ]
  },
  {
   "cell_type": "code",
   "execution_count": 22,
   "id": "f13ce8ed",
   "metadata": {},
   "outputs": [
    {
     "data": {
      "text/plain": [
       "[('it', 47),\n",
       " ('witch', 37),\n",
       " ('Ni', 36),\n",
       " ('you', 35),\n",
       " ('away', 28),\n",
       " ('No', 28),\n",
       " ('that', 27),\n",
       " ('Grail', 27),\n",
       " ('her', 26),\n",
       " ('Hello', 26)]"
      ]
     },
     "execution_count": 22,
     "metadata": {},
     "output_type": "execute_result"
    }
   ],
   "source": [
    "sorted(freq_dist_eos.items(), key=lambda x: x[1], reverse=True)[:10]"
   ]
  },
  {
   "cell_type": "markdown",
   "id": "45a4987a",
   "metadata": {},
   "source": [
    "# Task - 2"
   ]
  },
  {
   "cell_type": "code",
   "execution_count": 26,
   "id": "eb87c241",
   "metadata": {},
   "outputs": [
    {
     "data": {
      "text/plain": [
       "'Абу-Касимові капці\\n\\n<cha>1.\\nХто такий був Абу-Касим і як виглядали його капці\\n\\nУ Багдаді, славнім мі'"
      ]
     },
     "execution_count": 26,
     "metadata": {},
     "output_type": "execute_result"
    }
   ],
   "source": [
    "raw = open(\"Abu-Kasymovi_kapci.txt\", \"r\").read()\n",
    "raw[:100]"
   ]
  },
  {
   "cell_type": "code",
   "execution_count": 44,
   "id": "0222d8d6",
   "metadata": {},
   "outputs": [],
   "source": [
    "tokens = nltk.word_tokenize(raw)\n",
    "text = nltk.Text(tokens)"
   ]
  },
  {
   "cell_type": "code",
   "execution_count": 45,
   "id": "03aaa5d1",
   "metadata": {},
   "outputs": [
    {
     "data": {
      "text/plain": [
       "<Text: Абу-Касимові капці < cha > 1 . Хто...>"
      ]
     },
     "execution_count": 45,
     "metadata": {},
     "output_type": "execute_result"
    }
   ],
   "source": [
    "text"
   ]
  },
  {
   "cell_type": "code",
   "execution_count": 46,
   "id": "24297797",
   "metadata": {},
   "outputs": [
    {
     "data": {
      "text/plain": [
       "[ConcordanceLine(left=['дід', '.', 'Ноєвий', 'ковчег', '–'], query='я', right=['певен', '–', 'Стільки', 'лат'], offset=310, left_print='ковчег –', right_print='певен – ', line='ковчег – я певен – '),\n",
       " ConcordanceLine(left=['як', 'Касимові', 'капці', ',', 'Сього'], query='я', right=['не', 'втну', 'зробить', \"''\"], offset=408, left_print=' , Сього', right_print='не втну ', line=' , Сього я не втну '),\n",
       " ConcordanceLine(left=['добрі', 'люде', ',', 'Ліцитац', '’'], query='я', right=['зараз', 'буде', '!', 'Там'], offset=524, left_print='іцитац ’', right_print='зараз бу', line='іцитац ’ я зараз бу'),\n",
       " ConcordanceLine(left=['гроші', '!', 'Коб', 'на', 'час'], query='я', right=['долетів', '!', \"''\", 'І'], offset=617, left_print='б на час', right_print='долетів ', line='б на час я долетів '),\n",
       " ConcordanceLine(left=['зламаю', 'зараз', 'ногу', ',', 'Як'], query='я', right=['сам', 'що', 'винен', 'в'], offset=715, left_print='огу , Як', right_print='сам що в', line='огу , Як я сам що в')]"
      ]
     },
     "execution_count": 46,
     "metadata": {},
     "output_type": "execute_result"
    }
   ],
   "source": [
    "text.concordance_list(\"Я\", width=20, lines=5)"
   ]
  },
  {
   "cell_type": "code",
   "execution_count": 47,
   "id": "eae59e50",
   "metadata": {},
   "outputs": [
    {
     "name": "stdout",
     "output_type": "stream",
     "text": [
      "ти мені звинувся\n"
     ]
    }
   ],
   "source": [
    "text.similar(\"я\", num=3)"
   ]
  },
  {
   "cell_type": "code",
   "execution_count": 48,
   "id": "3b689e76",
   "metadata": {},
   "outputs": [
    {
     "data": {
      "image/png": "[encoded data removed]",
      "text/plain": [
       "<Figure size 640x480 with 1 Axes>"
      ]
     },
     "metadata": {},
     "output_type": "display_data"
    }
   ],
   "source": [
    "text.dispersion_plot([\"я\", \"дід\", \"люде\", \"винен\"])"
   ]
  },
  {
   "cell_type": "code",
   "execution_count": 49,
   "id": "25027edf",
   "metadata": {
    "scrolled": true
   },
   "outputs": [
    {
     "data": {
      "text/plain": [
       "[(',', 1284),\n",
       " ('!', 362),\n",
       " ('.', 285),\n",
       " ('–', 166),\n",
       " (\"''\", 155),\n",
       " ('не', 128),\n",
       " (':', 114),\n",
       " ('в', 113),\n",
       " ('на', 106),\n",
       " ('?', 106),\n",
       " ('Та', 81),\n",
       " ('``', 80),\n",
       " ('Що', 78),\n",
       " ('І', 78),\n",
       " ('і', 72),\n",
       " ('з', 69),\n",
       " ('й', 68),\n",
       " ('А', 65),\n",
       " ('за', 64),\n",
       " ('Абу-Касим', 63),\n",
       " ('капці', 59),\n",
       " ('В', 57),\n",
       " ('я', 55),\n",
       " ('’', 54),\n",
       " ('до', 53),\n",
       " ('як', 51),\n",
       " ('Як', 50),\n",
       " ('ж', 50),\n",
       " ('що', 49),\n",
       " ('він', 49),\n",
       " ('його', 44),\n",
       " ('у', 42),\n",
       " ('мов', 41),\n",
       " ('та', 41),\n",
       " (';', 38),\n",
       " ('се', 36),\n",
       " ('Мов', 33),\n",
       " ('так', 32),\n",
       " ('їх', 31),\n",
       " ('Чи', 31),\n",
       " ('вже', 30),\n",
       " ('ти', 27),\n",
       " ('то', 26),\n",
       " ('Щоб', 26),\n",
       " ('там', 25),\n",
       " ('Касим', 25),\n",
       " ('ті', 24),\n",
       " ('На', 24),\n",
       " ('Він', 24),\n",
       " ('Так', 23),\n",
       " ('мене', 23),\n",
       " ('То', 22),\n",
       " ('З', 22),\n",
       " ('ще', 21),\n",
       " ('по', 21),\n",
       " ('тут', 21),\n",
       " ('суддя', 20),\n",
       " ('нам', 19),\n",
       " ('Я', 18),\n",
       " ('Вже', 18),\n",
       " ('йому', 18),\n",
       " ('У', 17),\n",
       " ('собі', 17),\n",
       " ('всі', 17),\n",
       " ('де', 17),\n",
       " ('ось', 17),\n",
       " ('п', 17),\n",
       " ('Аж', 17),\n",
       " ('аж', 16),\n",
       " ('чи', 16),\n",
       " ('Ось', 16),\n",
       " ('вас', 16),\n",
       " ('Капці', 16),\n",
       " ('хоч', 15),\n",
       " ('Не', 15),\n",
       " ('був', 14),\n",
       " ('ним', 14),\n",
       " ('те', 14),\n",
       " ('від', 14),\n",
       " ('Де', 14),\n",
       " ('Бо', 14),\n",
       " ('нас', 14),\n",
       " ('тепер', 14),\n",
       " ('тебе', 14),\n",
       " ('До', 13),\n",
       " ('Тут', 13),\n",
       " ('нього', 13),\n",
       " ('разом', 13),\n",
       " ('мені', 13),\n",
       " ('Хто', 12),\n",
       " ('той', 12),\n",
       " ('без', 12),\n",
       " ('сам', 12),\n",
       " ('Наче', 12),\n",
       " ('мав', 12),\n",
       " ('них', 12),\n",
       " ('щось', 12),\n",
       " ('знов', 12),\n",
       " ('Все', 12),\n",
       " ('лазні', 12)]"
      ]
     },
     "execution_count": 49,
     "metadata": {},
     "output_type": "execute_result"
    }
   ],
   "source": [
    "sorted(nltk.FreqDist(text).items(), key=lambda x: x[1], reverse=True)[:100]"
   ]
  },
  {
   "cell_type": "markdown",
   "id": "39e8b3d6",
   "metadata": {},
   "source": [
    "# Task - 3"
   ]
  },
  {
   "cell_type": "code",
   "execution_count": 51,
   "id": "c134267e",
   "metadata": {},
   "outputs": [],
   "source": [
    "text_tmp = \"first amount is $123.45, second amount is $400\""
   ]
  },
  {
   "cell_type": "code",
   "execution_count": 57,
   "id": "54b71a18",
   "metadata": {},
   "outputs": [],
   "source": [
    "amounts = re.findall(r\"\\$\\d*(?:\\.\\d*)?\", text_tmp)"
   ]
  },
  {
   "cell_type": "code",
   "execution_count": 58,
   "id": "dbe8685f",
   "metadata": {},
   "outputs": [
    {
     "data": {
      "text/plain": [
       "523.45"
      ]
     },
     "execution_count": 58,
     "metadata": {},
     "output_type": "execute_result"
    }
   ],
   "source": [
    "amounts = list(map(lambda x: float(x[1:]), amounts))\n",
    "sum(amounts)"
   ]
  },
  {
   "cell_type": "markdown",
   "id": "fdb77ab7",
   "metadata": {},
   "source": [
    "# Task - 4"
   ]
  },
  {
   "cell_type": "code",
   "execution_count": 59,
   "id": "bc4699e9",
   "metadata": {},
   "outputs": [],
   "source": [
    "text_tmp = '''{\n",
    "\"HTTPHost”: ”localhost”,\n",
    "”HTTPPort”: 8545,\n",
    "”Config”: {\n",
    "    ”Enabled”: true,\n",
    "    ”Server”: ”wakuv2.prod” ,\n",
    "    ”Nodes”: [”8.210.222.231”, ”168.166.125.145”, ”8.210.222.231”, ”168.166.125.145”, ”8.210.222.231”]\n",
    "}\n",
    "}'''"
   ]
  },
  {
   "cell_type": "code",
   "execution_count": 60,
   "id": "6c2c5613",
   "metadata": {},
   "outputs": [
    {
     "name": "stdout",
     "output_type": "stream",
     "text": [
      "{\n",
      "\"HTTPHost”: ”localhost”,\n",
      "”HTTPPort”: 8545,\n",
      "”Config”: {\n",
      "    ”Enabled”: true,\n",
      "    ”Server”: ”wakuv2.prod” ,\n",
      "    ”Nodes”: [”8.210.222.231”, ”168.166.125.145”, ”8.210.222.231”, ”168.166.125.145”, ”8.210.222.231”]\n",
      "}\n",
      "}\n"
     ]
    }
   ],
   "source": [
    "print(text_tmp)"
   ]
  },
  {
   "cell_type": "code",
   "execution_count": 61,
   "id": "ae85ad4a",
   "metadata": {},
   "outputs": [
    {
     "data": {
      "text/plain": [
       "['”Nodes”: [”8.210.222.231”, ”168.166.125.145”, ”8.210.222.231”, ”168.166.125.145”, ”8.210.222.231”]']"
      ]
     },
     "execution_count": 61,
     "metadata": {},
     "output_type": "execute_result"
    }
   ],
   "source": [
    "re.findall(r'”Nodes”: \\[.*\\]', text_tmp)"
   ]
  },
  {
   "cell_type": "code",
   "execution_count": 62,
   "id": "39fc2db2",
   "metadata": {},
   "outputs": [
    {
     "name": "stdout",
     "output_type": "stream",
     "text": [
      "{\n",
      "\"HTTPHost”: ”localhost”,\n",
      "”HTTPPort”: 8545,\n",
      "”Config”: {\n",
      "    ”Enabled”: true,\n",
      "    ”Server”: ”wakuv2.prod” ,\n",
      "    ”Nodes”: [”168.166.125.145”, ”168.166.125.145”]\n",
      "}\n",
      "}\n"
     ]
    }
   ],
   "source": [
    "print(re.sub(r'”Nodes”: \\[.*\\]', re.sub(r'”8\\..*?”,?\\s*|,?\\s*”8\\..*?”', '', *re.findall(r'”Nodes”: \\[.*\\]', text_tmp)), text_tmp))"
   ]
  },
  {
   "cell_type": "code",
   "execution_count": 63,
   "id": "14e4b79f",
   "metadata": {},
   "outputs": [
    {
     "name": "stdout",
     "output_type": "stream",
     "text": [
      "{\n",
      "\"HTTPHost”: ”localhost”,\n",
      "”HTTPPort”: 8545,\n",
      "”Config”: {\n",
      "    ”Enabled”: true,\n",
      "    ”Server”: {”name”: ”wakuv2”, ”type”: ”prod”},\n",
      "    ”Nodes”: [”8.210.222.231”, ”168.166.125.145”, ”8.210.222.231”, ”168.166.125.145”, ”8.210.222.231”]\n",
      "}\n",
      "}\n"
     ]
    }
   ],
   "source": [
    "print(re.sub(r'(”Server”:\\s*)”(\\w*)\\.(\\w*)” ', '\\g<1>{”name”: ”\\g<2>”, ”type”: ”\\g<3>”}', text_tmp))"
   ]
  },
  {
   "cell_type": "code",
   "execution_count": null,
   "id": "489a68af",
   "metadata": {},
   "outputs": [],
   "source": []
  }
 ],
 "metadata": {
  "celltoolbar": "Необработанный формат ячейки",
  "kernelspec": {
   "display_name": "Python 3 (ipykernel)",
   "language": "python",
   "name": "python3"
  },
  "language_info": {
   "codemirror_mode": {
    "name": "ipython",
    "version": 3
   },
   "file_extension": ".py",
   "mimetype": "text/x-python",
   "name": "python",
   "nbconvert_exporter": "python",
   "pygments_lexer": "ipython3",
   "version": "3.9.16"
  }
 },
 "nbformat": 4,
 "nbformat_minor": 5
}
